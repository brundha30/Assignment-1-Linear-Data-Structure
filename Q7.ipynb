{
 "cells": [
  {
   "cell_type": "markdown",
   "metadata": {},
   "source": [
    "# Q7.Write a program to convert prefix expression to infix expression."
   ]
  },
  {
   "cell_type": "code",
   "execution_count": 1,
   "metadata": {},
   "outputs": [
    {
     "name": "stdout",
     "output_type": "stream",
     "text": [
      "*-A/BC-/AKL\n",
      "((A-(B/C))*((A/K)-L))\n"
     ]
    }
   ],
   "source": [
    "def isOperator(c):\n",
    "    \n",
    "    if c in [\"*\",\"+\",\"-\",\"/\",\"^\"]:\n",
    "        return True\n",
    "    else:\n",
    "        return False\n",
    "\n",
    "def prefix_to_infix(prefix):\n",
    "    print(prefix)\n",
    "    s= []\n",
    "    i = len(prefix) - 1\n",
    "    \n",
    "    while i >= 0:\n",
    "        if not isOperator(prefix[i]):\n",
    "            s.append(prefix[i])\n",
    "            i -= 1\n",
    "        else:\n",
    "            str = \"(\" + s.pop() + prefix[i] + s.pop() + \")\"\n",
    "            s.append(str)\n",
    "            i -= 1\n",
    "            \n",
    "     \n",
    "    return s.pop()\n",
    "\n",
    "print(prefix_to_infix(\"*-A/BC-/AKL\"))"
   ]
  },
  {
   "cell_type": "code",
   "execution_count": null,
   "metadata": {},
   "outputs": [],
   "source": []
  }
 ],
 "metadata": {
  "kernelspec": {
   "display_name": "Python 3",
   "language": "python",
   "name": "python3"
  },
  "language_info": {
   "codemirror_mode": {
    "name": "ipython",
    "version": 3
   },
   "file_extension": ".py",
   "mimetype": "text/x-python",
   "name": "python",
   "nbconvert_exporter": "python",
   "pygments_lexer": "ipython3",
   "version": "3.7.6"
  }
 },
 "nbformat": 4,
 "nbformat_minor": 4
}
