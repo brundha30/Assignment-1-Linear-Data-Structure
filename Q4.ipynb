{
 "cells": [
  {
   "cell_type": "markdown",
   "metadata": {},
   "source": [
    "# Q4. Write a program to print the first non-repeated character from a string?"
   ]
  },
  {
   "cell_type": "code",
   "execution_count": 1,
   "metadata": {},
   "outputs": [
    {
     "name": "stdout",
     "output_type": "stream",
     "text": [
      "w\n"
     ]
    }
   ],
   "source": [
    "def first_non_repeat_char(char):\n",
    "    a=[]\n",
    "    b={}\n",
    "    for i in char:\n",
    "        if i in b:\n",
    "            b[i] +=1\n",
    "        else:\n",
    "            b[i] =1\n",
    "            a.append(i)\n",
    "    for j in a:\n",
    "        if b[j] ==1:\n",
    "            return j\n",
    "    return \"\"\n",
    "print(first_non_repeat_char(\"watermelon\"))"
   ]
  },
  {
   "cell_type": "code",
   "execution_count": null,
   "metadata": {},
   "outputs": [],
   "source": []
  }
 ],
 "metadata": {
  "kernelspec": {
   "display_name": "Python 3",
   "language": "python",
   "name": "python3"
  },
  "language_info": {
   "codemirror_mode": {
    "name": "ipython",
    "version": 3
   },
   "file_extension": ".py",
   "mimetype": "text/x-python",
   "name": "python",
   "nbconvert_exporter": "python",
   "pygments_lexer": "ipython3",
   "version": "3.7.6"
  }
 },
 "nbformat": 4,
 "nbformat_minor": 4
}
