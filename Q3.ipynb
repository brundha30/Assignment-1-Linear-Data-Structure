{
 "cells": [
  {
   "cell_type": "markdown",
   "metadata": {},
   "source": [
    "# Q3. Write a program to check if two strings are a rotation of each other?"
   ]
  },
  {
   "cell_type": "code",
   "execution_count": 1,
   "metadata": {},
   "outputs": [
    {
     "name": "stdout",
     "output_type": "stream",
     "text": [
      "The two strings are rotations of each other.\n"
     ]
    }
   ],
   "source": [
    "def string(s1, s2): \n",
    "    s = '' \n",
    "    if len(s1) != len(s2): \n",
    "        return False\n",
    "    s = s1 + s1 \n",
    "        \n",
    "    if s2 in s: \n",
    "        return True \n",
    "    else: \n",
    "        return False\n",
    "  \n",
    " \n",
    "str1 = \"water\"\n",
    "str2 = \"aterw\"\n",
    "  \n",
    "if string(str1, str2): \n",
    "    print(\"The two strings are rotations of each other.\")\n",
    "else: \n",
    "    print(\"The two strings are not rotations of each other.\")"
   ]
  }
 ],
 "metadata": {
  "kernelspec": {
   "display_name": "Python 3",
   "language": "python",
   "name": "python3"
  },
  "language_info": {
   "codemirror_mode": {
    "name": "ipython",
    "version": 3
   },
   "file_extension": ".py",
   "mimetype": "text/x-python",
   "name": "python",
   "nbconvert_exporter": "python",
   "pygments_lexer": "ipython3",
   "version": "3.7.6"
  }
 },
 "nbformat": 4,
 "nbformat_minor": 4
}
