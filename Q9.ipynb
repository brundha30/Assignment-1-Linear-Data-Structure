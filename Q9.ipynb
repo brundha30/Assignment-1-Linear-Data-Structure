{
 "cells": [
  {
   "cell_type": "markdown",
   "metadata": {},
   "source": [
    "# Q9. Write a program to reverse a stack."
   ]
  },
  {
   "cell_type": "code",
   "execution_count": 1,
   "metadata": {},
   "outputs": [
    {
     "name": "stdout",
     "output_type": "stream",
     "text": [
      "elppA\n"
     ]
    }
   ],
   "source": [
    "class reverse_stack():\n",
    "    \n",
    "    def __init__(self):\n",
    "        self.item=[]\n",
    "        self.n=0\n",
    "        \n",
    "    def __len__(self):\n",
    "        return self.n\n",
    "    \n",
    "    def isEmpty(self):\n",
    "        return self.n==0\n",
    "    \n",
    "    def push(self,item):\n",
    "        self.item.append(item)\n",
    "        self.n+=1\n",
    "        \n",
    "    def pop(self):\n",
    "        p=self.item.pop()\n",
    "        self.n-=1\n",
    "        return p\n",
    "    \n",
    "    def getpeek(self):\n",
    "        if self.n>0:\n",
    "            return self.item[-1]\n",
    "        return \"Stack is empty\"\n",
    "    \n",
    "    def getstackitem(self):\n",
    "        return [self.item[i] for i in range(self.n)]\n",
    "\n",
    "\n",
    "def reverse(data):\n",
    "    \n",
    "    x=reverse_stack()\n",
    "    for i in data:\n",
    "        x.push(i)\n",
    "        \n",
    "    y=reverse_stack()\n",
    "    while not x.isEmpty():\n",
    "        y.push(x.pop())\n",
    "    return \"\".join(y.getstackitem())\n",
    "\n",
    "print(reverse(\"Apple\")) "
   ]
  },
  {
   "cell_type": "code",
   "execution_count": null,
   "metadata": {},
   "outputs": [],
   "source": []
  }
 ],
 "metadata": {
  "kernelspec": {
   "display_name": "Python 3",
   "language": "python",
   "name": "python3"
  },
  "language_info": {
   "codemirror_mode": {
    "name": "ipython",
    "version": 3
   },
   "file_extension": ".py",
   "mimetype": "text/x-python",
   "name": "python",
   "nbconvert_exporter": "python",
   "pygments_lexer": "ipython3",
   "version": "3.7.6"
  }
 },
 "nbformat": 4,
 "nbformat_minor": 4
}
