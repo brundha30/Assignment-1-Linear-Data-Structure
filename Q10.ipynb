{
 "cells": [
  {
   "cell_type": "markdown",
   "metadata": {},
   "source": [
    "# Q10. Write a program to find the smallest number using a stack."
   ]
  },
  {
   "cell_type": "code",
   "execution_count": 1,
   "metadata": {},
   "outputs": [
    {
     "name": "stdout",
     "output_type": "stream",
     "text": [
      "Smallest number: 1\n"
     ]
    }
   ],
   "source": [
    "class Stack:\n",
    "    def __init__(self):\n",
    "        self.items=[]\n",
    "        self.min_items=[]\n",
    "    def push(self,a):\n",
    "        self.items.append(a)\n",
    "        if len(self.min_items)==0 or a <=self.min_items[-1]:\n",
    "            self.min_items.append(a)\n",
    "    def pop(self):\n",
    "        if len(self.items)==0:\n",
    "            return None\n",
    "        item=self.items.pop()\n",
    "        if item==self.min_items[-1]:\n",
    "            self.min_items.pop()\n",
    "        return item\n",
    "    \n",
    "    def is_empty(self):\n",
    "        return len(self.items)==0\n",
    "    def get_min(self):\n",
    "        if len(self.min_items)==0:\n",
    "            return None\n",
    "        return self.min_items[-1]\n",
    "    \n",
    "s=Stack()\n",
    "s.push(3)\n",
    "s.push(2)\n",
    "s.push(1)\n",
    "print(\"Smallest number:\",s.get_min())"
   ]
  },
  {
   "cell_type": "code",
   "execution_count": null,
   "metadata": {},
   "outputs": [],
   "source": []
  }
 ],
 "metadata": {
  "kernelspec": {
   "display_name": "Python 3",
   "language": "python",
   "name": "python3"
  },
  "language_info": {
   "codemirror_mode": {
    "name": "ipython",
    "version": 3
   },
   "file_extension": ".py",
   "mimetype": "text/x-python",
   "name": "python",
   "nbconvert_exporter": "python",
   "pygments_lexer": "ipython3",
   "version": "3.7.6"
  }
 },
 "nbformat": 4,
 "nbformat_minor": 4
}
