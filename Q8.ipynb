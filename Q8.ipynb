{
 "cells": [
  {
   "cell_type": "markdown",
   "metadata": {},
   "source": [
    "# Q8. Write a program to check if all the brackets are closed in a given code snippet."
   ]
  },
  {
   "cell_type": "code",
   "execution_count": 1,
   "metadata": {},
   "outputs": [
    {
     "name": "stdout",
     "output_type": "stream",
     "text": [
      "Given string is balanced : True\n"
     ]
    }
   ],
   "source": [
    "def check_brackets(s):  \n",
    "    count= 0  \n",
    "    answer=False  \n",
    "    for i in s:  \n",
    "        if i == \"(\" or i == \"{\" or i == \"[\":  \n",
    "            count += 1  \n",
    "        elif i == \")\" or i == \"}\" or i == \"]\":  \n",
    "            count-= 1  \n",
    "        if count < 0:  \n",
    "            return answer  \n",
    "    if count==0:  \n",
    "        return not answer  \n",
    "    return answer \n",
    "   \n",
    "print(\"Given string is balanced :\",check_brackets(\"{[{[]}]}\")) "
   ]
  },
  {
   "cell_type": "code",
   "execution_count": null,
   "metadata": {},
   "outputs": [],
   "source": []
  }
 ],
 "metadata": {
  "kernelspec": {
   "display_name": "Python 3",
   "language": "python",
   "name": "python3"
  },
  "language_info": {
   "codemirror_mode": {
    "name": "ipython",
    "version": 3
   },
   "file_extension": ".py",
   "mimetype": "text/x-python",
   "name": "python",
   "nbconvert_exporter": "python",
   "pygments_lexer": "ipython3",
   "version": "3.7.6"
  }
 },
 "nbformat": 4,
 "nbformat_minor": 4
}
