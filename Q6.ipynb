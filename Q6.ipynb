{
 "cells": [
  {
   "cell_type": "markdown",
   "metadata": {},
   "source": [
    "# Q6. Read about infix, prefix, and postfix expressions. Write a program to convert postfix to prefix expression."
   ]
  },
  {
   "cell_type": "code",
   "execution_count": 1,
   "metadata": {},
   "outputs": [
    {
     "name": "stdout",
     "output_type": "stream",
     "text": [
      "AB+CD-\n",
      "Len: 6\n",
      "Push(): A\n",
      "Push(): B\n",
      "Push(): +AB\n",
      "Push(): C\n",
      "Push(): D\n",
      "Push(): -CD\n",
      " +AB-CD\n"
     ]
    }
   ],
   "source": [
    "def isOperator(c):\n",
    "    \n",
    "    if c in [\"*\",\"+\",\"-\",\"/\",\"^\"]:\n",
    "        return True\n",
    "    else:\n",
    "        return False\n",
    "\n",
    "def post_to_pre(post_exp):\n",
    "    print(post_exp)\n",
    "    \n",
    "    s=[]\n",
    "    length=len(post_exp)\n",
    "    print(\"Len:\",length)\n",
    "    \n",
    "    for i in range(length):\n",
    "        \n",
    "        if isOperator(post_exp[i]):\n",
    "            op1=s[-1]\n",
    "            s.pop()\n",
    "            op2=s[-1]\n",
    "            s.pop()\n",
    "            s.append(post_exp[i] + op2 + op1)\n",
    "            print(\"Push():\" , post_exp[i] + op2 + op1 )\n",
    "        else:\n",
    "            s.append(post_exp[i])\n",
    "            print(\"Push():\",post_exp[i] )\n",
    "            \n",
    "    a =\" \"\n",
    "    for i in s:\n",
    "        a = a + i\n",
    "    return a\n",
    "    \n",
    "print(post_to_pre(\"AB+CD-\"))"
   ]
  },
  {
   "cell_type": "code",
   "execution_count": null,
   "metadata": {},
   "outputs": [],
   "source": []
  }
 ],
 "metadata": {
  "kernelspec": {
   "display_name": "Python 3",
   "language": "python",
   "name": "python3"
  },
  "language_info": {
   "codemirror_mode": {
    "name": "ipython",
    "version": 3
   },
   "file_extension": ".py",
   "mimetype": "text/x-python",
   "name": "python",
   "nbconvert_exporter": "python",
   "pygments_lexer": "ipython3",
   "version": "3.7.6"
  }
 },
 "nbformat": 4,
 "nbformat_minor": 4
}
