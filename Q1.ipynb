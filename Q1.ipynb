{
 "cells": [
  {
   "cell_type": "markdown",
   "metadata": {},
   "source": [
    "# Q1. Write a program to find all pairs of an integer array whose sum is equal to a given number?"
   ]
  },
  {
   "cell_type": "code",
   "execution_count": 1,
   "metadata": {},
   "outputs": [
    {
     "name": "stdout",
     "output_type": "stream",
     "text": [
      "3 2\n",
      "4 1\n",
      " \n"
     ]
    }
   ],
   "source": [
    "def sum(array,len,sum_number):\n",
    "    for i in range(len):\n",
    "        for j in range(i,len):\n",
    "            if (array[i] + array[j])==sum_number:\n",
    "                print(array[i],array[j])\n",
    "    return \" \"\n",
    "                \n",
    "array = [3,4,2,1,5]\n",
    "sum_number =5\n",
    "print(sum(array,len(array),sum_number))"
   ]
  }
 ],
 "metadata": {
  "kernelspec": {
   "display_name": "Python 3",
   "language": "python",
   "name": "python3"
  },
  "language_info": {
   "codemirror_mode": {
    "name": "ipython",
    "version": 3
   },
   "file_extension": ".py",
   "mimetype": "text/x-python",
   "name": "python",
   "nbconvert_exporter": "python",
   "pygments_lexer": "ipython3",
   "version": "3.7.6"
  }
 },
 "nbformat": 4,
 "nbformat_minor": 4
}
